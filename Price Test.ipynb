{
 "cells": [
  {
   "cell_type": "code",
   "execution_count": 31,
   "metadata": {},
   "outputs": [
    {
     "data": {
      "text/html": [
       "<div>\n",
       "<style scoped>\n",
       "    .dataframe tbody tr th:only-of-type {\n",
       "        vertical-align: middle;\n",
       "    }\n",
       "\n",
       "    .dataframe tbody tr th {\n",
       "        vertical-align: top;\n",
       "    }\n",
       "\n",
       "    .dataframe thead th {\n",
       "        text-align: right;\n",
       "    }\n",
       "</style>\n",
       "<table border=\"1\" class=\"dataframe\">\n",
       "  <thead>\n",
       "    <tr style=\"text-align: right;\">\n",
       "      <th></th>\n",
       "      <th>user_id</th>\n",
       "      <th>city</th>\n",
       "      <th>country</th>\n",
       "      <th>lat</th>\n",
       "      <th>long</th>\n",
       "    </tr>\n",
       "  </thead>\n",
       "  <tbody>\n",
       "    <tr>\n",
       "      <th>0</th>\n",
       "      <td>510335</td>\n",
       "      <td>Peabody</td>\n",
       "      <td>USA</td>\n",
       "      <td>42.53</td>\n",
       "      <td>-70.97</td>\n",
       "    </tr>\n",
       "    <tr>\n",
       "      <th>1</th>\n",
       "      <td>89568</td>\n",
       "      <td>Reno</td>\n",
       "      <td>USA</td>\n",
       "      <td>39.54</td>\n",
       "      <td>-119.82</td>\n",
       "    </tr>\n",
       "    <tr>\n",
       "      <th>2</th>\n",
       "      <td>434134</td>\n",
       "      <td>Rialto</td>\n",
       "      <td>USA</td>\n",
       "      <td>34.11</td>\n",
       "      <td>-117.39</td>\n",
       "    </tr>\n",
       "    <tr>\n",
       "      <th>3</th>\n",
       "      <td>289769</td>\n",
       "      <td>Carson City</td>\n",
       "      <td>USA</td>\n",
       "      <td>39.15</td>\n",
       "      <td>-119.74</td>\n",
       "    </tr>\n",
       "    <tr>\n",
       "      <th>4</th>\n",
       "      <td>939586</td>\n",
       "      <td>Chicago</td>\n",
       "      <td>USA</td>\n",
       "      <td>41.84</td>\n",
       "      <td>-87.68</td>\n",
       "    </tr>\n",
       "  </tbody>\n",
       "</table>\n",
       "</div>"
      ],
      "text/plain": [
       "   user_id         city country    lat    long\n",
       "0   510335      Peabody     USA  42.53  -70.97\n",
       "1    89568         Reno     USA  39.54 -119.82\n",
       "2   434134       Rialto     USA  34.11 -117.39\n",
       "3   289769  Carson City     USA  39.15 -119.74\n",
       "4   939586      Chicago     USA  41.84  -87.68"
      ]
     },
     "execution_count": 31,
     "metadata": {},
     "output_type": "execute_result"
    }
   ],
   "source": [
    "##q2\n",
    "%matplotlib inline\n",
    "import pandas as pd\n",
    "import numpy as np\n",
    "import matplotlib.pyplot as plt\n",
    "from scipy.stats import fisher_exact\n",
    "import seaborn\n",
    "user_df = pd.read_csv('q2_user_table.csv')\n",
    "user_df.head()"
   ]
  },
  {
   "cell_type": "code",
   "execution_count": 32,
   "metadata": {},
   "outputs": [
    {
     "data": {
      "text/html": [
       "<div>\n",
       "<style scoped>\n",
       "    .dataframe tbody tr th:only-of-type {\n",
       "        vertical-align: middle;\n",
       "    }\n",
       "\n",
       "    .dataframe tbody tr th {\n",
       "        vertical-align: top;\n",
       "    }\n",
       "\n",
       "    .dataframe thead th {\n",
       "        text-align: right;\n",
       "    }\n",
       "</style>\n",
       "<table border=\"1\" class=\"dataframe\">\n",
       "  <thead>\n",
       "    <tr style=\"text-align: right;\">\n",
       "      <th></th>\n",
       "      <th>user_id</th>\n",
       "      <th>timestamp</th>\n",
       "      <th>source</th>\n",
       "      <th>device</th>\n",
       "      <th>operative_system</th>\n",
       "      <th>test</th>\n",
       "      <th>price</th>\n",
       "      <th>converted</th>\n",
       "    </tr>\n",
       "  </thead>\n",
       "  <tbody>\n",
       "    <tr>\n",
       "      <th>0</th>\n",
       "      <td>604839</td>\n",
       "      <td>2015-05-08 03:38:34</td>\n",
       "      <td>ads_facebook</td>\n",
       "      <td>mobile</td>\n",
       "      <td>iOS</td>\n",
       "      <td>0</td>\n",
       "      <td>39</td>\n",
       "      <td>0</td>\n",
       "    </tr>\n",
       "    <tr>\n",
       "      <th>1</th>\n",
       "      <td>624057</td>\n",
       "      <td>2015-05-10 21:08:46</td>\n",
       "      <td>seo-google</td>\n",
       "      <td>mobile</td>\n",
       "      <td>android</td>\n",
       "      <td>0</td>\n",
       "      <td>39</td>\n",
       "      <td>0</td>\n",
       "    </tr>\n",
       "    <tr>\n",
       "      <th>2</th>\n",
       "      <td>317970</td>\n",
       "      <td>2015-04-04 15:01:23</td>\n",
       "      <td>ads-bing</td>\n",
       "      <td>mobile</td>\n",
       "      <td>android</td>\n",
       "      <td>0</td>\n",
       "      <td>39</td>\n",
       "      <td>0</td>\n",
       "    </tr>\n",
       "    <tr>\n",
       "      <th>3</th>\n",
       "      <td>685636</td>\n",
       "      <td>2015-05-07 07:26:01</td>\n",
       "      <td>direct_traffic</td>\n",
       "      <td>mobile</td>\n",
       "      <td>iOS</td>\n",
       "      <td>1</td>\n",
       "      <td>59</td>\n",
       "      <td>0</td>\n",
       "    </tr>\n",
       "    <tr>\n",
       "      <th>4</th>\n",
       "      <td>820854</td>\n",
       "      <td>2015-05-24 11:04:40</td>\n",
       "      <td>ads_facebook</td>\n",
       "      <td>web</td>\n",
       "      <td>mac</td>\n",
       "      <td>0</td>\n",
       "      <td>39</td>\n",
       "      <td>0</td>\n",
       "    </tr>\n",
       "  </tbody>\n",
       "</table>\n",
       "</div>"
      ],
      "text/plain": [
       "   user_id            timestamp          source  device operative_system  \\\n",
       "0   604839  2015-05-08 03:38:34    ads_facebook  mobile              iOS   \n",
       "1   624057  2015-05-10 21:08:46      seo-google  mobile          android   \n",
       "2   317970  2015-04-04 15:01:23        ads-bing  mobile          android   \n",
       "3   685636  2015-05-07 07:26:01  direct_traffic  mobile              iOS   \n",
       "4   820854  2015-05-24 11:04:40    ads_facebook     web              mac   \n",
       "\n",
       "   test  price  converted  \n",
       "0     0     39          0  \n",
       "1     0     39          0  \n",
       "2     0     39          0  \n",
       "3     1     59          0  \n",
       "4     0     39          0  "
      ]
     },
     "execution_count": 32,
     "metadata": {},
     "output_type": "execute_result"
    }
   ],
   "source": [
    "result_df = pd.read_csv('q2_test_results.csv')\n",
    "result_df.head()"
   ]
  },
  {
   "cell_type": "markdown",
   "metadata": {},
   "source": [
    "# EDA"
   ]
  },
  {
   "cell_type": "markdown",
   "metadata": {},
   "source": [
    "##### To avoid missing data, I will keep the dataset separated for now"
   ]
  },
  {
   "cell_type": "code",
   "execution_count": 33,
   "metadata": {},
   "outputs": [
    {
     "data": {
      "text/plain": [
       "user_id    0\n",
       "city       0\n",
       "country    0\n",
       "lat        0\n",
       "long       0\n",
       "dtype: int64"
      ]
     },
     "execution_count": 33,
     "metadata": {},
     "output_type": "execute_result"
    }
   ],
   "source": [
    "user_df.isnull().sum()"
   ]
  },
  {
   "cell_type": "code",
   "execution_count": 34,
   "metadata": {},
   "outputs": [
    {
     "data": {
      "text/plain": [
       "user_id             0\n",
       "timestamp           0\n",
       "source              0\n",
       "device              0\n",
       "operative_system    0\n",
       "test                0\n",
       "price               0\n",
       "converted           0\n",
       "dtype: int64"
      ]
     },
     "execution_count": 34,
     "metadata": {},
     "output_type": "execute_result"
    }
   ],
   "source": [
    "result_df.isnull().sum()"
   ]
  },
  {
   "cell_type": "code",
   "execution_count": 35,
   "metadata": {
    "scrolled": true
   },
   "outputs": [
    {
     "data": {
      "text/html": [
       "<div>\n",
       "<style scoped>\n",
       "    .dataframe tbody tr th:only-of-type {\n",
       "        vertical-align: middle;\n",
       "    }\n",
       "\n",
       "    .dataframe tbody tr th {\n",
       "        vertical-align: top;\n",
       "    }\n",
       "\n",
       "    .dataframe thead th {\n",
       "        text-align: right;\n",
       "    }\n",
       "</style>\n",
       "<table border=\"1\" class=\"dataframe\">\n",
       "  <thead>\n",
       "    <tr style=\"text-align: right;\">\n",
       "      <th></th>\n",
       "      <th>count</th>\n",
       "      <th>mean</th>\n",
       "      <th>std</th>\n",
       "      <th>min</th>\n",
       "      <th>25%</th>\n",
       "      <th>50%</th>\n",
       "      <th>75%</th>\n",
       "      <th>max</th>\n",
       "    </tr>\n",
       "    <tr>\n",
       "      <th>test</th>\n",
       "      <th></th>\n",
       "      <th></th>\n",
       "      <th></th>\n",
       "      <th></th>\n",
       "      <th></th>\n",
       "      <th></th>\n",
       "      <th></th>\n",
       "      <th></th>\n",
       "    </tr>\n",
       "  </thead>\n",
       "  <tbody>\n",
       "    <tr>\n",
       "      <th>0</th>\n",
       "      <td>202727.0</td>\n",
       "      <td>0.019904</td>\n",
       "      <td>0.139669</td>\n",
       "      <td>0.0</td>\n",
       "      <td>0.0</td>\n",
       "      <td>0.0</td>\n",
       "      <td>0.0</td>\n",
       "      <td>1.0</td>\n",
       "    </tr>\n",
       "    <tr>\n",
       "      <th>1</th>\n",
       "      <td>114073.0</td>\n",
       "      <td>0.015543</td>\n",
       "      <td>0.123698</td>\n",
       "      <td>0.0</td>\n",
       "      <td>0.0</td>\n",
       "      <td>0.0</td>\n",
       "      <td>0.0</td>\n",
       "      <td>1.0</td>\n",
       "    </tr>\n",
       "  </tbody>\n",
       "</table>\n",
       "</div>"
      ],
      "text/plain": [
       "         count      mean       std  min  25%  50%  75%  max\n",
       "test                                                       \n",
       "0     202727.0  0.019904  0.139669  0.0  0.0  0.0  0.0  1.0\n",
       "1     114073.0  0.015543  0.123698  0.0  0.0  0.0  0.0  1.0"
      ]
     },
     "execution_count": 35,
     "metadata": {},
     "output_type": "execute_result"
    }
   ],
   "source": [
    "result_df.groupby('test')['converted'].describe()"
   ]
  },
  {
   "cell_type": "markdown",
   "metadata": {},
   "source": [
    "##### There is a huge difference between two groups. ~1.9% of the customers buy the product in the low price groups vs. 1.5% of the customers in the high price group\n"
   ]
  },
  {
   "cell_type": "code",
   "execution_count": 36,
   "metadata": {},
   "outputs": [
    {
     "name": "stdout",
     "output_type": "stream",
     "text": [
      "Income with $39:  245917.90080000003\n",
      "Income with $59:  290517.32159999997\n",
      "Income increase %:  15.351725175756245\n"
     ]
    }
   ],
   "source": [
    "#Total revenue if the price = $39\n",
    "x = result_df.shape[0]\n",
    "Income_39 = 39*x*0.019904\n",
    "print('Income with $39: ', Income_39)\n",
    "#Total revenue if the price = $59\n",
    "Income_59 = 59*x*0.015543\n",
    "print('Income with $59: ', Income_59 )\n",
    "print('Income increase %: ',(Income_59-Income_39)/Income_59*100)"
   ]
  },
  {
   "cell_type": "markdown",
   "metadata": {},
   "source": [
    "##### Error:The data is inconsistent. Different test groups don't have a similar testing price distribution. The size of the error data is not significant and unclear on the cause; therefore, deleting these entries may be appropriate."
   ]
  },
  {
   "cell_type": "code",
   "execution_count": 37,
   "metadata": {},
   "outputs": [
    {
     "data": {
      "text/html": [
       "<div>\n",
       "<style scoped>\n",
       "    .dataframe tbody tr th:only-of-type {\n",
       "        vertical-align: middle;\n",
       "    }\n",
       "\n",
       "    .dataframe tbody tr th {\n",
       "        vertical-align: top;\n",
       "    }\n",
       "\n",
       "    .dataframe thead th {\n",
       "        text-align: right;\n",
       "    }\n",
       "</style>\n",
       "<table border=\"1\" class=\"dataframe\">\n",
       "  <thead>\n",
       "    <tr style=\"text-align: right;\">\n",
       "      <th></th>\n",
       "      <th></th>\n",
       "      <th>user_id</th>\n",
       "    </tr>\n",
       "    <tr>\n",
       "      <th>test</th>\n",
       "      <th>price</th>\n",
       "      <th></th>\n",
       "    </tr>\n",
       "  </thead>\n",
       "  <tbody>\n",
       "    <tr>\n",
       "      <th rowspan=\"2\" valign=\"top\">0</th>\n",
       "      <th>39</th>\n",
       "      <td>202517</td>\n",
       "    </tr>\n",
       "    <tr>\n",
       "      <th>59</th>\n",
       "      <td>210</td>\n",
       "    </tr>\n",
       "    <tr>\n",
       "      <th rowspan=\"2\" valign=\"top\">1</th>\n",
       "      <th>39</th>\n",
       "      <td>155</td>\n",
       "    </tr>\n",
       "    <tr>\n",
       "      <th>59</th>\n",
       "      <td>113918</td>\n",
       "    </tr>\n",
       "  </tbody>\n",
       "</table>\n",
       "</div>"
      ],
      "text/plain": [
       "            user_id\n",
       "test price         \n",
       "0    39      202517\n",
       "     59         210\n",
       "1    39         155\n",
       "     59      113918"
      ]
     },
     "execution_count": 37,
     "metadata": {},
     "output_type": "execute_result"
    }
   ],
   "source": [
    "result_df[['price', 'test', 'user_id']].groupby(['test', 'price']).count()"
   ]
  },
  {
   "cell_type": "code",
   "execution_count": 38,
   "metadata": {},
   "outputs": [
    {
     "data": {
      "text/html": [
       "<div>\n",
       "<style scoped>\n",
       "    .dataframe tbody tr th:only-of-type {\n",
       "        vertical-align: middle;\n",
       "    }\n",
       "\n",
       "    .dataframe tbody tr th {\n",
       "        vertical-align: top;\n",
       "    }\n",
       "\n",
       "    .dataframe thead th {\n",
       "        text-align: right;\n",
       "    }\n",
       "</style>\n",
       "<table border=\"1\" class=\"dataframe\">\n",
       "  <thead>\n",
       "    <tr style=\"text-align: right;\">\n",
       "      <th></th>\n",
       "      <th></th>\n",
       "      <th>user_id</th>\n",
       "    </tr>\n",
       "    <tr>\n",
       "      <th>test</th>\n",
       "      <th>price</th>\n",
       "      <th></th>\n",
       "    </tr>\n",
       "  </thead>\n",
       "  <tbody>\n",
       "    <tr>\n",
       "      <th>0</th>\n",
       "      <th>39</th>\n",
       "      <td>202517</td>\n",
       "    </tr>\n",
       "    <tr>\n",
       "      <th>1</th>\n",
       "      <th>59</th>\n",
       "      <td>113918</td>\n",
       "    </tr>\n",
       "  </tbody>\n",
       "</table>\n",
       "</div>"
      ],
      "text/plain": [
       "            user_id\n",
       "test price         \n",
       "0    39      202517\n",
       "1    59      113918"
      ]
     },
     "execution_count": 38,
     "metadata": {},
     "output_type": "execute_result"
    }
   ],
   "source": [
    "test_group_zero = result_df[(result_df['test'] == 0) & (result_df['price'] == 39)] \n",
    "test_group_one = result_df[(result_df['test'] == 1) & (result_df['price'] == 59)] \n",
    "clean_test_data = pd.concat([test_group_zero,test_group_one] )\n",
    "clean_test_data[['price', 'test', 'user_id']].groupby(['test', 'price']).count()\n",
    "##error is correct"
   ]
  },
  {
   "cell_type": "code",
   "execution_count": 39,
   "metadata": {},
   "outputs": [
    {
     "data": {
      "text/html": [
       "<div>\n",
       "<style scoped>\n",
       "    .dataframe tbody tr th:only-of-type {\n",
       "        vertical-align: middle;\n",
       "    }\n",
       "\n",
       "    .dataframe tbody tr th {\n",
       "        vertical-align: top;\n",
       "    }\n",
       "\n",
       "    .dataframe thead th {\n",
       "        text-align: right;\n",
       "    }\n",
       "</style>\n",
       "<table border=\"1\" class=\"dataframe\">\n",
       "  <thead>\n",
       "    <tr style=\"text-align: right;\">\n",
       "      <th></th>\n",
       "      <th></th>\n",
       "      <th>user_id</th>\n",
       "    </tr>\n",
       "    <tr>\n",
       "      <th>price</th>\n",
       "      <th>converted</th>\n",
       "      <th></th>\n",
       "    </tr>\n",
       "  </thead>\n",
       "  <tbody>\n",
       "    <tr>\n",
       "      <th rowspan=\"2\" valign=\"top\">39</th>\n",
       "      <th>0</th>\n",
       "      <td>198487</td>\n",
       "    </tr>\n",
       "    <tr>\n",
       "      <th>1</th>\n",
       "      <td>4030</td>\n",
       "    </tr>\n",
       "    <tr>\n",
       "      <th rowspan=\"2\" valign=\"top\">59</th>\n",
       "      <th>0</th>\n",
       "      <td>112146</td>\n",
       "    </tr>\n",
       "    <tr>\n",
       "      <th>1</th>\n",
       "      <td>1772</td>\n",
       "    </tr>\n",
       "  </tbody>\n",
       "</table>\n",
       "</div>"
      ],
      "text/plain": [
       "                 user_id\n",
       "price converted         \n",
       "39    0           198487\n",
       "      1             4030\n",
       "59    0           112146\n",
       "      1             1772"
      ]
     },
     "execution_count": 39,
     "metadata": {},
     "output_type": "execute_result"
    }
   ],
   "source": [
    "##conversion\n",
    "clean_test_data[['price', 'converted', 'user_id']].groupby(['price', 'converted']).count()"
   ]
  },
  {
   "cell_type": "markdown",
   "metadata": {},
   "source": [
    "##### merge the two data frames"
   ]
  },
  {
   "cell_type": "code",
   "execution_count": 40,
   "metadata": {},
   "outputs": [
    {
     "data": {
      "text/html": [
       "<div>\n",
       "<style scoped>\n",
       "    .dataframe tbody tr th:only-of-type {\n",
       "        vertical-align: middle;\n",
       "    }\n",
       "\n",
       "    .dataframe tbody tr th {\n",
       "        vertical-align: top;\n",
       "    }\n",
       "\n",
       "    .dataframe thead th {\n",
       "        text-align: right;\n",
       "    }\n",
       "</style>\n",
       "<table border=\"1\" class=\"dataframe\">\n",
       "  <thead>\n",
       "    <tr style=\"text-align: right;\">\n",
       "      <th></th>\n",
       "      <th>user_id</th>\n",
       "      <th>timestamp</th>\n",
       "      <th>source</th>\n",
       "      <th>device</th>\n",
       "      <th>operative_system</th>\n",
       "      <th>test</th>\n",
       "      <th>price</th>\n",
       "      <th>converted</th>\n",
       "      <th>city</th>\n",
       "      <th>country</th>\n",
       "      <th>lat</th>\n",
       "      <th>long</th>\n",
       "    </tr>\n",
       "  </thead>\n",
       "  <tbody>\n",
       "    <tr>\n",
       "      <th>0</th>\n",
       "      <td>604839</td>\n",
       "      <td>2015-05-08 03:38:34</td>\n",
       "      <td>ads_facebook</td>\n",
       "      <td>mobile</td>\n",
       "      <td>iOS</td>\n",
       "      <td>0</td>\n",
       "      <td>39</td>\n",
       "      <td>0</td>\n",
       "      <td>Buffalo</td>\n",
       "      <td>USA</td>\n",
       "      <td>42.89</td>\n",
       "      <td>-78.86</td>\n",
       "    </tr>\n",
       "    <tr>\n",
       "      <th>1</th>\n",
       "      <td>624057</td>\n",
       "      <td>2015-05-10 21:08:46</td>\n",
       "      <td>seo-google</td>\n",
       "      <td>mobile</td>\n",
       "      <td>android</td>\n",
       "      <td>0</td>\n",
       "      <td>39</td>\n",
       "      <td>0</td>\n",
       "      <td>Lakeville</td>\n",
       "      <td>USA</td>\n",
       "      <td>44.68</td>\n",
       "      <td>-93.24</td>\n",
       "    </tr>\n",
       "    <tr>\n",
       "      <th>2</th>\n",
       "      <td>317970</td>\n",
       "      <td>2015-04-04 15:01:23</td>\n",
       "      <td>ads-bing</td>\n",
       "      <td>mobile</td>\n",
       "      <td>android</td>\n",
       "      <td>0</td>\n",
       "      <td>39</td>\n",
       "      <td>0</td>\n",
       "      <td>Parma</td>\n",
       "      <td>USA</td>\n",
       "      <td>41.38</td>\n",
       "      <td>-81.73</td>\n",
       "    </tr>\n",
       "    <tr>\n",
       "      <th>3</th>\n",
       "      <td>820854</td>\n",
       "      <td>2015-05-24 11:04:40</td>\n",
       "      <td>ads_facebook</td>\n",
       "      <td>web</td>\n",
       "      <td>mac</td>\n",
       "      <td>0</td>\n",
       "      <td>39</td>\n",
       "      <td>0</td>\n",
       "      <td>Fishers</td>\n",
       "      <td>USA</td>\n",
       "      <td>39.95</td>\n",
       "      <td>-86.02</td>\n",
       "    </tr>\n",
       "    <tr>\n",
       "      <th>4</th>\n",
       "      <td>169971</td>\n",
       "      <td>2015-04-13 12:07:08</td>\n",
       "      <td>ads-google</td>\n",
       "      <td>mobile</td>\n",
       "      <td>iOS</td>\n",
       "      <td>0</td>\n",
       "      <td>39</td>\n",
       "      <td>0</td>\n",
       "      <td>New York</td>\n",
       "      <td>USA</td>\n",
       "      <td>40.67</td>\n",
       "      <td>-73.94</td>\n",
       "    </tr>\n",
       "    <tr>\n",
       "      <th>...</th>\n",
       "      <td>...</td>\n",
       "      <td>...</td>\n",
       "      <td>...</td>\n",
       "      <td>...</td>\n",
       "      <td>...</td>\n",
       "      <td>...</td>\n",
       "      <td>...</td>\n",
       "      <td>...</td>\n",
       "      <td>...</td>\n",
       "      <td>...</td>\n",
       "      <td>...</td>\n",
       "      <td>...</td>\n",
       "    </tr>\n",
       "    <tr>\n",
       "      <th>316430</th>\n",
       "      <td>190563</td>\n",
       "      <td>2015-05-17 12:03:19</td>\n",
       "      <td>seo_facebook</td>\n",
       "      <td>mobile</td>\n",
       "      <td>android</td>\n",
       "      <td>1</td>\n",
       "      <td>59</td>\n",
       "      <td>0</td>\n",
       "      <td>New Haven</td>\n",
       "      <td>USA</td>\n",
       "      <td>41.31</td>\n",
       "      <td>-72.92</td>\n",
       "    </tr>\n",
       "    <tr>\n",
       "      <th>316431</th>\n",
       "      <td>796427</td>\n",
       "      <td>2015-04-02 09:33:18</td>\n",
       "      <td>seo-google</td>\n",
       "      <td>web</td>\n",
       "      <td>windows</td>\n",
       "      <td>1</td>\n",
       "      <td>59</td>\n",
       "      <td>0</td>\n",
       "      <td>Norwalk</td>\n",
       "      <td>USA</td>\n",
       "      <td>33.91</td>\n",
       "      <td>-118.08</td>\n",
       "    </tr>\n",
       "    <tr>\n",
       "      <th>316432</th>\n",
       "      <td>964001</td>\n",
       "      <td>2015-05-05 13:31:19</td>\n",
       "      <td>ads_other</td>\n",
       "      <td>web</td>\n",
       "      <td>windows</td>\n",
       "      <td>1</td>\n",
       "      <td>59</td>\n",
       "      <td>0</td>\n",
       "      <td>Athens-Clarke</td>\n",
       "      <td>USA</td>\n",
       "      <td>33.95</td>\n",
       "      <td>-83.39</td>\n",
       "    </tr>\n",
       "    <tr>\n",
       "      <th>316433</th>\n",
       "      <td>388438</td>\n",
       "      <td>2015-05-20 11:34:44</td>\n",
       "      <td>seo-google</td>\n",
       "      <td>web</td>\n",
       "      <td>windows</td>\n",
       "      <td>1</td>\n",
       "      <td>59</td>\n",
       "      <td>0</td>\n",
       "      <td>Joliet</td>\n",
       "      <td>USA</td>\n",
       "      <td>41.53</td>\n",
       "      <td>-88.12</td>\n",
       "    </tr>\n",
       "    <tr>\n",
       "      <th>316434</th>\n",
       "      <td>832372</td>\n",
       "      <td>2015-03-08 17:12:33</td>\n",
       "      <td>ads_facebook</td>\n",
       "      <td>mobile</td>\n",
       "      <td>android</td>\n",
       "      <td>1</td>\n",
       "      <td>59</td>\n",
       "      <td>0</td>\n",
       "      <td>Chicago</td>\n",
       "      <td>USA</td>\n",
       "      <td>41.84</td>\n",
       "      <td>-87.68</td>\n",
       "    </tr>\n",
       "  </tbody>\n",
       "</table>\n",
       "<p>316435 rows × 12 columns</p>\n",
       "</div>"
      ],
      "text/plain": [
       "        user_id            timestamp        source  device operative_system  \\\n",
       "0        604839  2015-05-08 03:38:34  ads_facebook  mobile              iOS   \n",
       "1        624057  2015-05-10 21:08:46    seo-google  mobile          android   \n",
       "2        317970  2015-04-04 15:01:23      ads-bing  mobile          android   \n",
       "3        820854  2015-05-24 11:04:40  ads_facebook     web              mac   \n",
       "4        169971  2015-04-13 12:07:08    ads-google  mobile              iOS   \n",
       "...         ...                  ...           ...     ...              ...   \n",
       "316430   190563  2015-05-17 12:03:19  seo_facebook  mobile          android   \n",
       "316431   796427  2015-04-02 09:33:18    seo-google     web          windows   \n",
       "316432   964001  2015-05-05 13:31:19     ads_other     web          windows   \n",
       "316433   388438  2015-05-20 11:34:44    seo-google     web          windows   \n",
       "316434   832372  2015-03-08 17:12:33  ads_facebook  mobile          android   \n",
       "\n",
       "        test  price  converted           city country    lat    long  \n",
       "0          0     39          0        Buffalo     USA  42.89  -78.86  \n",
       "1          0     39          0      Lakeville     USA  44.68  -93.24  \n",
       "2          0     39          0          Parma     USA  41.38  -81.73  \n",
       "3          0     39          0        Fishers     USA  39.95  -86.02  \n",
       "4          0     39          0       New York     USA  40.67  -73.94  \n",
       "...      ...    ...        ...            ...     ...    ...     ...  \n",
       "316430     1     59          0      New Haven     USA  41.31  -72.92  \n",
       "316431     1     59          0        Norwalk     USA  33.91 -118.08  \n",
       "316432     1     59          0  Athens-Clarke     USA  33.95  -83.39  \n",
       "316433     1     59          0         Joliet     USA  41.53  -88.12  \n",
       "316434     1     59          0        Chicago     USA  41.84  -87.68  \n",
       "\n",
       "[316435 rows x 12 columns]"
      ]
     },
     "execution_count": 40,
     "metadata": {},
     "output_type": "execute_result"
    }
   ],
   "source": [
    "combined_data = pd.merge(clean_test_data, user_df, on='user_id', how='left')\n",
    "combined_data"
   ]
  },
  {
   "cell_type": "code",
   "execution_count": 41,
   "metadata": {},
   "outputs": [
    {
     "data": {
      "text/html": [
       "<div>\n",
       "<style scoped>\n",
       "    .dataframe tbody tr th:only-of-type {\n",
       "        vertical-align: middle;\n",
       "    }\n",
       "\n",
       "    .dataframe tbody tr th {\n",
       "        vertical-align: top;\n",
       "    }\n",
       "\n",
       "    .dataframe thead th {\n",
       "        text-align: right;\n",
       "    }\n",
       "</style>\n",
       "<table border=\"1\" class=\"dataframe\">\n",
       "  <thead>\n",
       "    <tr style=\"text-align: right;\">\n",
       "      <th></th>\n",
       "      <th>income</th>\n",
       "    </tr>\n",
       "    <tr>\n",
       "      <th>test</th>\n",
       "      <th></th>\n",
       "    </tr>\n",
       "  </thead>\n",
       "  <tbody>\n",
       "    <tr>\n",
       "      <th>0</th>\n",
       "      <td>0.776083</td>\n",
       "    </tr>\n",
       "    <tr>\n",
       "      <th>1</th>\n",
       "      <td>0.917748</td>\n",
       "    </tr>\n",
       "  </tbody>\n",
       "</table>\n",
       "</div>"
      ],
      "text/plain": [
       "        income\n",
       "test          \n",
       "0     0.776083\n",
       "1     0.917748"
      ]
     },
     "execution_count": 41,
     "metadata": {},
     "output_type": "execute_result"
    }
   ],
   "source": [
    "##Real income calculation\n",
    "##no income if converted = 0\n",
    "combined_data['income'] = combined_data['price'] * combined_data['converted']\n",
    "combined_data[['test', 'income']].groupby('test').mean()"
   ]
  },
  {
   "cell_type": "code",
   "execution_count": 42,
   "metadata": {},
   "outputs": [
    {
     "data": {
      "text/html": [
       "<div>\n",
       "<style scoped>\n",
       "    .dataframe tbody tr th:only-of-type {\n",
       "        vertical-align: middle;\n",
       "    }\n",
       "\n",
       "    .dataframe tbody tr th {\n",
       "        vertical-align: top;\n",
       "    }\n",
       "\n",
       "    .dataframe thead th {\n",
       "        text-align: right;\n",
       "    }\n",
       "</style>\n",
       "<table border=\"1\" class=\"dataframe\">\n",
       "  <thead>\n",
       "    <tr style=\"text-align: right;\">\n",
       "      <th></th>\n",
       "      <th>converted</th>\n",
       "    </tr>\n",
       "    <tr>\n",
       "      <th>test</th>\n",
       "      <th></th>\n",
       "    </tr>\n",
       "  </thead>\n",
       "  <tbody>\n",
       "    <tr>\n",
       "      <th>0</th>\n",
       "      <td>0.019900</td>\n",
       "    </tr>\n",
       "    <tr>\n",
       "      <th>1</th>\n",
       "      <td>0.015555</td>\n",
       "    </tr>\n",
       "  </tbody>\n",
       "</table>\n",
       "</div>"
      ],
      "text/plain": [
       "      converted\n",
       "test           \n",
       "0      0.019900\n",
       "1      0.015555"
      ]
     },
     "execution_count": 42,
     "metadata": {},
     "output_type": "execute_result"
    }
   ],
   "source": [
    "##mean of conversion\n",
    "combined_data[['test', 'converted']].groupby('test').mean()"
   ]
  },
  {
   "cell_type": "code",
   "execution_count": 43,
   "metadata": {},
   "outputs": [
    {
     "name": "stdout",
     "output_type": "stream",
     "text": [
      "variance for group zero:  29.665078490573645\n",
      "variance for group one:  53.305330173629486\n"
     ]
    }
   ],
   "source": [
    "##evaluate the variance for both group\n",
    "import statistics \n",
    "var_group_zero = statistics.variance(combined_data[combined_data['test']== 0]['income'])\n",
    "var_group_one = statistics.variance(combined_data[combined_data['test']== 1]['income'])\n",
    "print(\"variance for group zero: \", var_group_zero)\n",
    "print(\"variance for group one: \",var_group_one)"
   ]
  },
  {
   "cell_type": "markdown",
   "metadata": {},
   "source": [
    "##### AB test on the mean of income for both group"
   ]
  },
  {
   "cell_type": "markdown",
   "metadata": {},
   "source": [
    " Assumption: Null hypothesis H0: the average income of group zero(test=0) ≥ avearge income of group one (test=1)"
   ]
  },
  {
   "cell_type": "code",
   "execution_count": 44,
   "metadata": {},
   "outputs": [
    {
     "name": "stdout",
     "output_type": "stream",
     "text": [
      "Ttest_indResult(statistic=-5.715224666463108, pvalue=1.0972577312420781e-08)\n"
     ]
    }
   ],
   "source": [
    "from scipy.stats import ttest_ind\n",
    "print(ttest_ind(combined_data[combined_data['test']== 0]['income'], combined_data[combined_data['test'] == 1]['income'], axis=0, equal_var=False))"
   ]
  },
  {
   "cell_type": "markdown",
   "metadata": {},
   "source": [
    "We can reject the Null hypothesis because the p-value < 0.05. \n",
    "In conclusion, the average income of group zero is less than that of group one."
   ]
  },
  {
   "cell_type": "markdown",
   "metadata": {},
   "source": [
    "# user behaviour"
   ]
  },
  {
   "cell_type": "code",
   "execution_count": 45,
   "metadata": {},
   "outputs": [
    {
     "data": {
      "image/png": "[encoded data removed]",
      "text/plain": [
       "<Figure size 432x288 with 1 Axes>"
      ]
     },
     "metadata": {
      "needs_background": "light"
     },
     "output_type": "display_data"
    },
    {
     "name": "stdout",
     "output_type": "stream",
     "text": [
      "mobile users% : 0.588642217201005\n",
      "         count      mean       std  min  25%  50%  75%  max\n",
      "test                                                       \n",
      "0     202517.0  0.019900  0.139656  0.0  0.0  0.0  0.0  1.0\n",
      "1     113918.0  0.015555  0.123747  0.0  0.0  0.0  0.0  1.0\n",
      "             converted\n",
      "device test           \n",
      "mobile 0      0.019872\n",
      "       1      0.016146\n",
      "web    0      0.019940\n",
      "       1      0.014744\n"
     ]
    }
   ],
   "source": [
    "#Conversion rate by device\n",
    "combined_data.groupby(\"device\")[\"converted\"].mean().plot(kind='bar')\n",
    "plt.ylabel('Conversion rate')\n",
    "plt.xlabel('device')\n",
    "plt.title('Conversion rate per device')\n",
    "plt.show()\n",
    "print('mobile users% :',combined_data[combined_data['device']=='mobile'].shape[0]/combined_data.shape[0])\n",
    "print(combined_data.groupby('test')['converted'].describe())\n",
    "print(combined_data.groupby(['device','test']).agg({'converted':'mean'}))"
   ]
  },
  {
   "cell_type": "markdown",
   "metadata": {},
   "source": [
    "As it has relatively higher percentage on mobile user, what will happen if we increase price for mobile user only?"
   ]
  },
  {
   "cell_type": "code",
   "execution_count": 46,
   "metadata": {},
   "outputs": [
    {
     "name": "stdout",
     "output_type": "stream",
     "text": [
      "Income with $39:  245585.2035\n",
      "income with $59 if we increase the price only in mobile users 278631.44466612\n",
      "income% increase : 11.860198049692066\n"
     ]
    }
   ],
   "source": [
    "x = combined_data.shape[0]\n",
    "income_39 = 39*x*0.019900\n",
    "print('Income with $39: ', income_39)\n",
    "income_59 = 39*x*0.019940*(1-0.588) + 59*x*0.016146*0.588\n",
    "print('income with $59 if we increase the price only in mobile users', income_59)\n",
    "print('income% increase :',(income_59-income_39)/income_59*100)"
   ]
  },
  {
   "cell_type": "markdown",
   "metadata": {},
   "source": [
    "11% impact of income on increasing the price only in mobile users v.s. ~15% impact of income overall\n",
    "In summary, increase the price only in mobile users doesnt help."
   ]
  },
  {
   "cell_type": "code",
   "execution_count": 47,
   "metadata": {},
   "outputs": [
    {
     "data": {
      "image/png": "[encoded data removed]",
      "text/plain": [
       "<Figure size 432x288 with 1 Axes>"
      ]
     },
     "metadata": {
      "needs_background": "light"
     },
     "output_type": "display_data"
    },
    {
     "data": {
      "text/html": [
       "<div>\n",
       "<style scoped>\n",
       "    .dataframe tbody tr th:only-of-type {\n",
       "        vertical-align: middle;\n",
       "    }\n",
       "\n",
       "    .dataframe tbody tr th {\n",
       "        vertical-align: top;\n",
       "    }\n",
       "\n",
       "    .dataframe thead th {\n",
       "        text-align: right;\n",
       "    }\n",
       "</style>\n",
       "<table border=\"1\" class=\"dataframe\">\n",
       "  <thead>\n",
       "    <tr style=\"text-align: right;\">\n",
       "      <th></th>\n",
       "      <th></th>\n",
       "      <th>count</th>\n",
       "      <th>mean</th>\n",
       "      <th>std</th>\n",
       "      <th>min</th>\n",
       "      <th>25%</th>\n",
       "      <th>50%</th>\n",
       "      <th>75%</th>\n",
       "      <th>max</th>\n",
       "    </tr>\n",
       "    <tr>\n",
       "      <th>source</th>\n",
       "      <th>test</th>\n",
       "      <th></th>\n",
       "      <th></th>\n",
       "      <th></th>\n",
       "      <th></th>\n",
       "      <th></th>\n",
       "      <th></th>\n",
       "      <th></th>\n",
       "      <th></th>\n",
       "    </tr>\n",
       "  </thead>\n",
       "  <tbody>\n",
       "    <tr>\n",
       "      <th rowspan=\"2\" valign=\"top\">ads-bing</th>\n",
       "      <th>0</th>\n",
       "      <td>14584.0</td>\n",
       "      <td>0.013371</td>\n",
       "      <td>0.114861</td>\n",
       "      <td>0.0</td>\n",
       "      <td>0.0</td>\n",
       "      <td>0.0</td>\n",
       "      <td>0.0</td>\n",
       "      <td>1.0</td>\n",
       "    </tr>\n",
       "    <tr>\n",
       "      <th>1</th>\n",
       "      <td>8247.0</td>\n",
       "      <td>0.009579</td>\n",
       "      <td>0.097410</td>\n",
       "      <td>0.0</td>\n",
       "      <td>0.0</td>\n",
       "      <td>0.0</td>\n",
       "      <td>0.0</td>\n",
       "      <td>1.0</td>\n",
       "    </tr>\n",
       "    <tr>\n",
       "      <th rowspan=\"2\" valign=\"top\">ads-google</th>\n",
       "      <th>0</th>\n",
       "      <td>37845.0</td>\n",
       "      <td>0.022566</td>\n",
       "      <td>0.148516</td>\n",
       "      <td>0.0</td>\n",
       "      <td>0.0</td>\n",
       "      <td>0.0</td>\n",
       "      <td>0.0</td>\n",
       "      <td>1.0</td>\n",
       "    </tr>\n",
       "    <tr>\n",
       "      <th>1</th>\n",
       "      <td>21497.0</td>\n",
       "      <td>0.019631</td>\n",
       "      <td>0.138731</td>\n",
       "      <td>0.0</td>\n",
       "      <td>0.0</td>\n",
       "      <td>0.0</td>\n",
       "      <td>0.0</td>\n",
       "      <td>1.0</td>\n",
       "    </tr>\n",
       "    <tr>\n",
       "      <th rowspan=\"2\" valign=\"top\">ads-yahoo</th>\n",
       "      <th>0</th>\n",
       "      <td>4812.0</td>\n",
       "      <td>0.016833</td>\n",
       "      <td>0.128659</td>\n",
       "      <td>0.0</td>\n",
       "      <td>0.0</td>\n",
       "      <td>0.0</td>\n",
       "      <td>0.0</td>\n",
       "      <td>1.0</td>\n",
       "    </tr>\n",
       "    <tr>\n",
       "      <th>1</th>\n",
       "      <td>2759.0</td>\n",
       "      <td>0.011236</td>\n",
       "      <td>0.105422</td>\n",
       "      <td>0.0</td>\n",
       "      <td>0.0</td>\n",
       "      <td>0.0</td>\n",
       "      <td>0.0</td>\n",
       "      <td>1.0</td>\n",
       "    </tr>\n",
       "    <tr>\n",
       "      <th rowspan=\"2\" valign=\"top\">ads_facebook</th>\n",
       "      <th>0</th>\n",
       "      <td>34074.0</td>\n",
       "      <td>0.023654</td>\n",
       "      <td>0.151972</td>\n",
       "      <td>0.0</td>\n",
       "      <td>0.0</td>\n",
       "      <td>0.0</td>\n",
       "      <td>0.0</td>\n",
       "      <td>1.0</td>\n",
       "    </tr>\n",
       "    <tr>\n",
       "      <th>1</th>\n",
       "      <td>19281.0</td>\n",
       "      <td>0.016856</td>\n",
       "      <td>0.128735</td>\n",
       "      <td>0.0</td>\n",
       "      <td>0.0</td>\n",
       "      <td>0.0</td>\n",
       "      <td>0.0</td>\n",
       "      <td>1.0</td>\n",
       "    </tr>\n",
       "    <tr>\n",
       "      <th rowspan=\"2\" valign=\"top\">ads_other</th>\n",
       "      <th>0</th>\n",
       "      <td>19256.0</td>\n",
       "      <td>0.015424</td>\n",
       "      <td>0.123234</td>\n",
       "      <td>0.0</td>\n",
       "      <td>0.0</td>\n",
       "      <td>0.0</td>\n",
       "      <td>0.0</td>\n",
       "      <td>1.0</td>\n",
       "    </tr>\n",
       "    <tr>\n",
       "      <th>1</th>\n",
       "      <td>10570.0</td>\n",
       "      <td>0.012394</td>\n",
       "      <td>0.110640</td>\n",
       "      <td>0.0</td>\n",
       "      <td>0.0</td>\n",
       "      <td>0.0</td>\n",
       "      <td>0.0</td>\n",
       "      <td>1.0</td>\n",
       "    </tr>\n",
       "    <tr>\n",
       "      <th rowspan=\"2\" valign=\"top\">direct_traffic</th>\n",
       "      <th>0</th>\n",
       "      <td>38712.0</td>\n",
       "      <td>0.013510</td>\n",
       "      <td>0.115446</td>\n",
       "      <td>0.0</td>\n",
       "      <td>0.0</td>\n",
       "      <td>0.0</td>\n",
       "      <td>0.0</td>\n",
       "      <td>1.0</td>\n",
       "    </tr>\n",
       "    <tr>\n",
       "      <th>1</th>\n",
       "      <td>21560.0</td>\n",
       "      <td>0.010111</td>\n",
       "      <td>0.100048</td>\n",
       "      <td>0.0</td>\n",
       "      <td>0.0</td>\n",
       "      <td>0.0</td>\n",
       "      <td>0.0</td>\n",
       "      <td>1.0</td>\n",
       "    </tr>\n",
       "    <tr>\n",
       "      <th rowspan=\"2\" valign=\"top\">friend_referral</th>\n",
       "      <th>0</th>\n",
       "      <td>13121.0</td>\n",
       "      <td>0.041689</td>\n",
       "      <td>0.199885</td>\n",
       "      <td>0.0</td>\n",
       "      <td>0.0</td>\n",
       "      <td>0.0</td>\n",
       "      <td>0.0</td>\n",
       "      <td>1.0</td>\n",
       "    </tr>\n",
       "    <tr>\n",
       "      <th>1</th>\n",
       "      <td>7557.0</td>\n",
       "      <td>0.033479</td>\n",
       "      <td>0.179895</td>\n",
       "      <td>0.0</td>\n",
       "      <td>0.0</td>\n",
       "      <td>0.0</td>\n",
       "      <td>0.0</td>\n",
       "      <td>1.0</td>\n",
       "    </tr>\n",
       "    <tr>\n",
       "      <th rowspan=\"2\" valign=\"top\">seo-bing</th>\n",
       "      <th>0</th>\n",
       "      <td>1329.0</td>\n",
       "      <td>0.030098</td>\n",
       "      <td>0.170921</td>\n",
       "      <td>0.0</td>\n",
       "      <td>0.0</td>\n",
       "      <td>0.0</td>\n",
       "      <td>0.0</td>\n",
       "      <td>1.0</td>\n",
       "    </tr>\n",
       "    <tr>\n",
       "      <th>1</th>\n",
       "      <td>815.0</td>\n",
       "      <td>0.013497</td>\n",
       "      <td>0.115460</td>\n",
       "      <td>0.0</td>\n",
       "      <td>0.0</td>\n",
       "      <td>0.0</td>\n",
       "      <td>0.0</td>\n",
       "      <td>1.0</td>\n",
       "    </tr>\n",
       "    <tr>\n",
       "      <th rowspan=\"2\" valign=\"top\">seo-google</th>\n",
       "      <th>0</th>\n",
       "      <td>15088.0</td>\n",
       "      <td>0.017497</td>\n",
       "      <td>0.131120</td>\n",
       "      <td>0.0</td>\n",
       "      <td>0.0</td>\n",
       "      <td>0.0</td>\n",
       "      <td>0.0</td>\n",
       "      <td>1.0</td>\n",
       "    </tr>\n",
       "    <tr>\n",
       "      <th>1</th>\n",
       "      <td>8060.0</td>\n",
       "      <td>0.016005</td>\n",
       "      <td>0.125502</td>\n",
       "      <td>0.0</td>\n",
       "      <td>0.0</td>\n",
       "      <td>0.0</td>\n",
       "      <td>0.0</td>\n",
       "      <td>1.0</td>\n",
       "    </tr>\n",
       "    <tr>\n",
       "      <th rowspan=\"2\" valign=\"top\">seo-other</th>\n",
       "      <th>0</th>\n",
       "      <td>5879.0</td>\n",
       "      <td>0.017520</td>\n",
       "      <td>0.131210</td>\n",
       "      <td>0.0</td>\n",
       "      <td>0.0</td>\n",
       "      <td>0.0</td>\n",
       "      <td>0.0</td>\n",
       "      <td>1.0</td>\n",
       "    </tr>\n",
       "    <tr>\n",
       "      <th>1</th>\n",
       "      <td>3365.0</td>\n",
       "      <td>0.012481</td>\n",
       "      <td>0.111037</td>\n",
       "      <td>0.0</td>\n",
       "      <td>0.0</td>\n",
       "      <td>0.0</td>\n",
       "      <td>0.0</td>\n",
       "      <td>1.0</td>\n",
       "    </tr>\n",
       "    <tr>\n",
       "      <th rowspan=\"2\" valign=\"top\">seo-yahoo</th>\n",
       "      <th>0</th>\n",
       "      <td>4356.0</td>\n",
       "      <td>0.019513</td>\n",
       "      <td>0.138336</td>\n",
       "      <td>0.0</td>\n",
       "      <td>0.0</td>\n",
       "      <td>0.0</td>\n",
       "      <td>0.0</td>\n",
       "      <td>1.0</td>\n",
       "    </tr>\n",
       "    <tr>\n",
       "      <th>1</th>\n",
       "      <td>2485.0</td>\n",
       "      <td>0.010463</td>\n",
       "      <td>0.101772</td>\n",
       "      <td>0.0</td>\n",
       "      <td>0.0</td>\n",
       "      <td>0.0</td>\n",
       "      <td>0.0</td>\n",
       "      <td>1.0</td>\n",
       "    </tr>\n",
       "    <tr>\n",
       "      <th rowspan=\"2\" valign=\"top\">seo_facebook</th>\n",
       "      <th>0</th>\n",
       "      <td>13461.0</td>\n",
       "      <td>0.017458</td>\n",
       "      <td>0.130975</td>\n",
       "      <td>0.0</td>\n",
       "      <td>0.0</td>\n",
       "      <td>0.0</td>\n",
       "      <td>0.0</td>\n",
       "      <td>1.0</td>\n",
       "    </tr>\n",
       "    <tr>\n",
       "      <th>1</th>\n",
       "      <td>7722.0</td>\n",
       "      <td>0.013598</td>\n",
       "      <td>0.115820</td>\n",
       "      <td>0.0</td>\n",
       "      <td>0.0</td>\n",
       "      <td>0.0</td>\n",
       "      <td>0.0</td>\n",
       "      <td>1.0</td>\n",
       "    </tr>\n",
       "  </tbody>\n",
       "</table>\n",
       "</div>"
      ],
      "text/plain": [
       "                        count      mean       std  min  25%  50%  75%  max\n",
       "source          test                                                      \n",
       "ads-bing        0     14584.0  0.013371  0.114861  0.0  0.0  0.0  0.0  1.0\n",
       "                1      8247.0  0.009579  0.097410  0.0  0.0  0.0  0.0  1.0\n",
       "ads-google      0     37845.0  0.022566  0.148516  0.0  0.0  0.0  0.0  1.0\n",
       "                1     21497.0  0.019631  0.138731  0.0  0.0  0.0  0.0  1.0\n",
       "ads-yahoo       0      4812.0  0.016833  0.128659  0.0  0.0  0.0  0.0  1.0\n",
       "                1      2759.0  0.011236  0.105422  0.0  0.0  0.0  0.0  1.0\n",
       "ads_facebook    0     34074.0  0.023654  0.151972  0.0  0.0  0.0  0.0  1.0\n",
       "                1     19281.0  0.016856  0.128735  0.0  0.0  0.0  0.0  1.0\n",
       "ads_other       0     19256.0  0.015424  0.123234  0.0  0.0  0.0  0.0  1.0\n",
       "                1     10570.0  0.012394  0.110640  0.0  0.0  0.0  0.0  1.0\n",
       "direct_traffic  0     38712.0  0.013510  0.115446  0.0  0.0  0.0  0.0  1.0\n",
       "                1     21560.0  0.010111  0.100048  0.0  0.0  0.0  0.0  1.0\n",
       "friend_referral 0     13121.0  0.041689  0.199885  0.0  0.0  0.0  0.0  1.0\n",
       "                1      7557.0  0.033479  0.179895  0.0  0.0  0.0  0.0  1.0\n",
       "seo-bing        0      1329.0  0.030098  0.170921  0.0  0.0  0.0  0.0  1.0\n",
       "                1       815.0  0.013497  0.115460  0.0  0.0  0.0  0.0  1.0\n",
       "seo-google      0     15088.0  0.017497  0.131120  0.0  0.0  0.0  0.0  1.0\n",
       "                1      8060.0  0.016005  0.125502  0.0  0.0  0.0  0.0  1.0\n",
       "seo-other       0      5879.0  0.017520  0.131210  0.0  0.0  0.0  0.0  1.0\n",
       "                1      3365.0  0.012481  0.111037  0.0  0.0  0.0  0.0  1.0\n",
       "seo-yahoo       0      4356.0  0.019513  0.138336  0.0  0.0  0.0  0.0  1.0\n",
       "                1      2485.0  0.010463  0.101772  0.0  0.0  0.0  0.0  1.0\n",
       "seo_facebook    0     13461.0  0.017458  0.130975  0.0  0.0  0.0  0.0  1.0\n",
       "                1      7722.0  0.013598  0.115820  0.0  0.0  0.0  0.0  1.0"
      ]
     },
     "execution_count": 47,
     "metadata": {},
     "output_type": "execute_result"
    }
   ],
   "source": [
    "#Conversion rate by source\n",
    "sourceplot = combined_data.groupby(\"source\")[\"converted\"].mean().plot(kind='bar')\n",
    "plt.ylabel('Conversion rate')\n",
    "plt.xlabel('Resource')\n",
    "plt.title('Conversion rate per source')\n",
    "plt.show()\n",
    "combined_data.groupby(['source','test'])['converted'].describe()"
   ]
  },
  {
   "cell_type": "markdown",
   "metadata": {},
   "source": [
    "percent decrease in conversion rate between both test group is lowest in seo-bing users\n",
    "However, as the group is at thesmall percentage it wouldn't make huge difference if increase the price on this group."
   ]
  },
  {
   "cell_type": "code",
   "execution_count": 48,
   "metadata": {},
   "outputs": [
    {
     "data": {
      "image/png": "[encoded data removed]",
      "text/plain": [
       "<Figure size 432x288 with 1 Axes>"
      ]
     },
     "metadata": {
      "needs_background": "light"
     },
     "output_type": "display_data"
    },
    {
     "data": {
      "text/html": [
       "<div>\n",
       "<style scoped>\n",
       "    .dataframe tbody tr th:only-of-type {\n",
       "        vertical-align: middle;\n",
       "    }\n",
       "\n",
       "    .dataframe tbody tr th {\n",
       "        vertical-align: top;\n",
       "    }\n",
       "\n",
       "    .dataframe thead th {\n",
       "        text-align: right;\n",
       "    }\n",
       "</style>\n",
       "<table border=\"1\" class=\"dataframe\">\n",
       "  <thead>\n",
       "    <tr style=\"text-align: right;\">\n",
       "      <th></th>\n",
       "      <th></th>\n",
       "      <th>count</th>\n",
       "      <th>mean</th>\n",
       "      <th>std</th>\n",
       "      <th>min</th>\n",
       "      <th>25%</th>\n",
       "      <th>50%</th>\n",
       "      <th>75%</th>\n",
       "      <th>max</th>\n",
       "    </tr>\n",
       "    <tr>\n",
       "      <th>operative_system</th>\n",
       "      <th>test</th>\n",
       "      <th></th>\n",
       "      <th></th>\n",
       "      <th></th>\n",
       "      <th></th>\n",
       "      <th></th>\n",
       "      <th></th>\n",
       "      <th></th>\n",
       "      <th></th>\n",
       "    </tr>\n",
       "  </thead>\n",
       "  <tbody>\n",
       "    <tr>\n",
       "      <th rowspan=\"2\" valign=\"top\">android</th>\n",
       "      <th>0</th>\n",
       "      <td>48177.0</td>\n",
       "      <td>0.016336</td>\n",
       "      <td>0.126764</td>\n",
       "      <td>0.0</td>\n",
       "      <td>0.0</td>\n",
       "      <td>0.0</td>\n",
       "      <td>0.0</td>\n",
       "      <td>1.0</td>\n",
       "    </tr>\n",
       "    <tr>\n",
       "      <th>1</th>\n",
       "      <td>26693.0</td>\n",
       "      <td>0.012363</td>\n",
       "      <td>0.110501</td>\n",
       "      <td>0.0</td>\n",
       "      <td>0.0</td>\n",
       "      <td>0.0</td>\n",
       "      <td>0.0</td>\n",
       "      <td>1.0</td>\n",
       "    </tr>\n",
       "    <tr>\n",
       "      <th rowspan=\"2\" valign=\"top\">iOS</th>\n",
       "      <th>0</th>\n",
       "      <td>61793.0</td>\n",
       "      <td>0.023595</td>\n",
       "      <td>0.151785</td>\n",
       "      <td>0.0</td>\n",
       "      <td>0.0</td>\n",
       "      <td>0.0</td>\n",
       "      <td>0.0</td>\n",
       "      <td>1.0</td>\n",
       "    </tr>\n",
       "    <tr>\n",
       "      <th>1</th>\n",
       "      <td>33560.0</td>\n",
       "      <td>0.019994</td>\n",
       "      <td>0.139982</td>\n",
       "      <td>0.0</td>\n",
       "      <td>0.0</td>\n",
       "      <td>0.0</td>\n",
       "      <td>0.0</td>\n",
       "      <td>1.0</td>\n",
       "    </tr>\n",
       "    <tr>\n",
       "      <th rowspan=\"2\" valign=\"top\">linux</th>\n",
       "      <th>0</th>\n",
       "      <td>2204.0</td>\n",
       "      <td>0.015426</td>\n",
       "      <td>0.123270</td>\n",
       "      <td>0.0</td>\n",
       "      <td>0.0</td>\n",
       "      <td>0.0</td>\n",
       "      <td>0.0</td>\n",
       "      <td>1.0</td>\n",
       "    </tr>\n",
       "    <tr>\n",
       "      <th>1</th>\n",
       "      <td>1926.0</td>\n",
       "      <td>0.000000</td>\n",
       "      <td>0.000000</td>\n",
       "      <td>0.0</td>\n",
       "      <td>0.0</td>\n",
       "      <td>0.0</td>\n",
       "      <td>0.0</td>\n",
       "      <td>0.0</td>\n",
       "    </tr>\n",
       "    <tr>\n",
       "      <th rowspan=\"2\" valign=\"top\">mac</th>\n",
       "      <th>0</th>\n",
       "      <td>16345.0</td>\n",
       "      <td>0.025451</td>\n",
       "      <td>0.157496</td>\n",
       "      <td>0.0</td>\n",
       "      <td>0.0</td>\n",
       "      <td>0.0</td>\n",
       "      <td>0.0</td>\n",
       "      <td>1.0</td>\n",
       "    </tr>\n",
       "    <tr>\n",
       "      <th>1</th>\n",
       "      <td>8710.0</td>\n",
       "      <td>0.021240</td>\n",
       "      <td>0.144192</td>\n",
       "      <td>0.0</td>\n",
       "      <td>0.0</td>\n",
       "      <td>0.0</td>\n",
       "      <td>0.0</td>\n",
       "      <td>1.0</td>\n",
       "    </tr>\n",
       "    <tr>\n",
       "      <th rowspan=\"2\" valign=\"top\">other</th>\n",
       "      <th>0</th>\n",
       "      <td>10481.0</td>\n",
       "      <td>0.014025</td>\n",
       "      <td>0.117601</td>\n",
       "      <td>0.0</td>\n",
       "      <td>0.0</td>\n",
       "      <td>0.0</td>\n",
       "      <td>0.0</td>\n",
       "      <td>1.0</td>\n",
       "    </tr>\n",
       "    <tr>\n",
       "      <th>1</th>\n",
       "      <td>5696.0</td>\n",
       "      <td>0.011060</td>\n",
       "      <td>0.104594</td>\n",
       "      <td>0.0</td>\n",
       "      <td>0.0</td>\n",
       "      <td>0.0</td>\n",
       "      <td>0.0</td>\n",
       "      <td>1.0</td>\n",
       "    </tr>\n",
       "    <tr>\n",
       "      <th rowspan=\"2\" valign=\"top\">windows</th>\n",
       "      <th>0</th>\n",
       "      <td>63517.0</td>\n",
       "      <td>0.018704</td>\n",
       "      <td>0.135477</td>\n",
       "      <td>0.0</td>\n",
       "      <td>0.0</td>\n",
       "      <td>0.0</td>\n",
       "      <td>0.0</td>\n",
       "      <td>1.0</td>\n",
       "    </tr>\n",
       "    <tr>\n",
       "      <th>1</th>\n",
       "      <td>37333.0</td>\n",
       "      <td>0.014009</td>\n",
       "      <td>0.117529</td>\n",
       "      <td>0.0</td>\n",
       "      <td>0.0</td>\n",
       "      <td>0.0</td>\n",
       "      <td>0.0</td>\n",
       "      <td>1.0</td>\n",
       "    </tr>\n",
       "  </tbody>\n",
       "</table>\n",
       "</div>"
      ],
      "text/plain": [
       "                         count      mean       std  min  25%  50%  75%  max\n",
       "operative_system test                                                      \n",
       "android          0     48177.0  0.016336  0.126764  0.0  0.0  0.0  0.0  1.0\n",
       "                 1     26693.0  0.012363  0.110501  0.0  0.0  0.0  0.0  1.0\n",
       "iOS              0     61793.0  0.023595  0.151785  0.0  0.0  0.0  0.0  1.0\n",
       "                 1     33560.0  0.019994  0.139982  0.0  0.0  0.0  0.0  1.0\n",
       "linux            0      2204.0  0.015426  0.123270  0.0  0.0  0.0  0.0  1.0\n",
       "                 1      1926.0  0.000000  0.000000  0.0  0.0  0.0  0.0  0.0\n",
       "mac              0     16345.0  0.025451  0.157496  0.0  0.0  0.0  0.0  1.0\n",
       "                 1      8710.0  0.021240  0.144192  0.0  0.0  0.0  0.0  1.0\n",
       "other            0     10481.0  0.014025  0.117601  0.0  0.0  0.0  0.0  1.0\n",
       "                 1      5696.0  0.011060  0.104594  0.0  0.0  0.0  0.0  1.0\n",
       "windows          0     63517.0  0.018704  0.135477  0.0  0.0  0.0  0.0  1.0\n",
       "                 1     37333.0  0.014009  0.117529  0.0  0.0  0.0  0.0  1.0"
      ]
     },
     "execution_count": 48,
     "metadata": {},
     "output_type": "execute_result"
    }
   ],
   "source": [
    "#Conversion rate by operating system\n",
    "sourceplot = combined_data.groupby(\"operative_system\")[\"converted\"].mean().plot(kind='bar')\n",
    "plt.ylabel('Conversion rate')\n",
    "plt.xlabel('operative_system')\n",
    "plt.title('Conversion rate per operative_system')\n",
    "plt.show()\n",
    "combined_data.groupby(['operative_system','test'])['converted'].describe()"
   ]
  },
  {
   "cell_type": "markdown",
   "metadata": {},
   "source": [
    "Mac and ios user has relatively higher conversion rate"
   ]
  },
  {
   "cell_type": "code",
   "execution_count": 49,
   "metadata": {},
   "outputs": [
    {
     "name": "stdout",
     "output_type": "stream",
     "text": [
      "['USA' nan]\n",
      "61.18\n",
      "19.7\n",
      "30.31\n",
      "-157.8\n"
     ]
    },
    {
     "data": {
      "image/png": "[encoded data removed]",
      "text/plain": [
       "<Figure size 432x288 with 1 Axes>"
      ]
     },
     "metadata": {
      "needs_background": "light"
     },
     "output_type": "display_data"
    }
   ],
   "source": [
    "#Conversion rate by user location\n",
    "print(combined_data['country'].unique())\n",
    "print(combined_data.loc[combined_data['country']=='USA','lat'].max())\n",
    "print(combined_data.loc[combined_data['country']=='USA','lat'].min())\n",
    "print(combined_data.loc[combined_data['country']=='USA','long'].max())\n",
    "print(combined_data.loc[combined_data['country']=='USA','long'].min())\n",
    "\n",
    "plt.scatter(combined_data.loc[combined_data['country']=='USA','long'],combined_data.loc[combined_data['country']=='USA','lat'])\n",
    "plt.xlim([-130,-70])\n",
    "plt.ylim([25,50])\n",
    "plt.xlabel('longitude')\n",
    "plt.ylabel('latitude')\n",
    "plt.title('site visit in USA')\n",
    "plt.show()"
   ]
  },
  {
   "cell_type": "code",
   "execution_count": 50,
   "metadata": {},
   "outputs": [
    {
     "name": "stdout",
     "output_type": "stream",
     "text": [
      "[50.  47.5 45.  42.5 40.  37.5 35.  32.5 30.  27.5]\n",
      "[-130 -125 -120 -115 -110 -105 -100  -95  -90  -85  -80  -75]\n"
     ]
    },
    {
     "name": "stderr",
     "output_type": "stream",
     "text": [
      "D:\\python\\anaconda\\lib\\site-packages\\numpy\\core\\fromnumeric.py:3335: RuntimeWarning: Mean of empty slice.\n",
      "  out=out, **kwargs)\n",
      "D:\\python\\anaconda\\lib\\site-packages\\numpy\\core\\_methods.py:161: RuntimeWarning: invalid value encountered in double_scalars\n",
      "  ret = ret.dtype.type(ret / rcount)\n"
     ]
    },
    {
     "data": {
      "image/png": "[encoded data removed]",
      "text/plain": [
       "<Figure size 432x288 with 2 Axes>"
      ]
     },
     "metadata": {
      "needs_background": "light"
     },
     "output_type": "display_data"
    }
   ],
   "source": [
    "import seaborn as sns\n",
    "lat = np.arange(50,25,-2.5)\n",
    "long= np.arange(-130,-70,5)\n",
    "print(lat)\n",
    "print(long)\n",
    "lat_long = np.zeros(shape=(len(lat),len(long)))\n",
    "for i in range(len(lat)):\n",
    "    for j in range(len(long)):\n",
    "        a = lat[i]\n",
    "        b = long[j]\n",
    "        df4 = combined_data.loc[(combined_data['country']=='USA')]\n",
    "        df4 = df4[(a < df4['lat'])& (df4['lat'] < a + 5)]\n",
    "        df4 = df4[(b < df4['long'])&(df4['long'] < b + 10)]\n",
    "        lat_long[i][j]=np.nanmean(df4['converted'])\n",
    "ax = sns.heatmap(lat_long,vmin=0.010)"
   ]
  },
  {
   "cell_type": "markdown",
   "metadata": {},
   "source": [
    "Summary:geographical location will also impact the conversion rate and the price accecpbility.\n",
    "At places where conversion rate is highest, maybe we can also afford much higher prices"
   ]
  },
  {
   "cell_type": "markdown",
   "metadata": {},
   "source": [
    "# What is your recommendation to the company in terms of setting an optimum price for their product?"
   ]
  },
  {
   "cell_type": "code",
   "execution_count": 51,
   "metadata": {},
   "outputs": [],
   "source": [
    "##### Selling products at $39 is a better choice for the user conversion rate as calculated before (1.9% v.s. 1.5%).\n",
    "#However, the higher unit price will bring extra income for the organization. \n",
    "#I will recommend sticking to the $39 price \n",
    "##but incrementing the conversion rate based on the users' behaviours."
   ]
  },
  {
   "cell_type": "markdown",
   "metadata": {},
   "source": [
    "# Can you optimize the number of days that the test is run? After how many days would you have stopped the test? Why?"
   ]
  },
  {
   "cell_type": "code",
   "execution_count": 52,
   "metadata": {},
   "outputs": [
    {
     "name": "stdout",
     "output_type": "stream",
     "text": [
      "Start of experiment:  2015-03-02 00:04:12\n",
      "End of experiment:  2015-05-31 23:59:45\n"
     ]
    }
   ],
   "source": [
    "print(\"Start of experiment: \",min(combined_data['timestamp']))\n",
    "print(\"End of experiment: \",max(combined_data['timestamp']))"
   ]
  },
  {
   "cell_type": "markdown",
   "metadata": {},
   "source": [
    "Compared to the z-test, \n",
    "t-test tells more on the statistically significant difference \n",
    "between two independent sample groups.As there is a variance differnce in two samples, I will use the welch's t-test here."
   ]
  },
  {
   "cell_type": "code",
   "execution_count": 53,
   "metadata": {},
   "outputs": [
    {
     "name": "stdout",
     "output_type": "stream",
     "text": [
      "Ttest_indResult(statistic=-4.15414211702349, pvalue=3.2696683365610206e-05)\n"
     ]
    }
   ],
   "source": [
    "##if one month for test\n",
    "##Use ttest_ind to calculate the T-test for the means of two independent samples of scores.\n",
    "zero_test = combined_data[(combined_data['test'] == 0) & (combined_data['timestamp'] < '2015-04-02') ]['income'].values\n",
    "one_test = combined_data[(combined_data['test'] == 1) & (combined_data['timestamp'] < '2015-04-02')]['income'].values\n",
    "#Welch's t-test\n",
    "print(ttest_ind(zero_test, one_test, axis=0, equal_var=False))"
   ]
  },
  {
   "cell_type": "code",
   "execution_count": 54,
   "metadata": {},
   "outputs": [
    {
     "name": "stdout",
     "output_type": "stream",
     "text": [
      "Ttest_indResult(statistic=-3.0914390981161657, pvalue=0.001993798324195856)\n"
     ]
    }
   ],
   "source": [
    "#significance with p < 0.05\n",
    "##test for half of the month\n",
    "zero_test = combined_data[(combined_data['test'] == 0) & (combined_data['timestamp'] < '2015-03-17') ]['income'].values\n",
    "one_test = combined_data[(combined_data['test'] == 1) & (combined_data['timestamp'] < '2015-03-17')]['income'].values\n",
    "#Welch's t-test\n",
    "print(ttest_ind(zero_test, one_test, axis=0, equal_var=False))"
   ]
  },
  {
   "cell_type": "code",
   "execution_count": 55,
   "metadata": {},
   "outputs": [
    {
     "name": "stdout",
     "output_type": "stream",
     "text": [
      "Ttest_indResult(statistic=-2.153549702517795, pvalue=0.031291794023264104)\n"
     ]
    }
   ],
   "source": [
    "##Dichotomy\n",
    "zero_test = combined_data[(combined_data['test'] == 0) & (combined_data['timestamp'] < '2015-03-09') ]['income'].values\n",
    "one_test = combined_data[(combined_data['test'] == 1) & (combined_data['timestamp'] < '2015-03-09')]['income'].values\n",
    "#Welch's t-test\n",
    "print(ttest_ind(zero_test, one_test, axis=0, equal_var=False))"
   ]
  },
  {
   "cell_type": "code",
   "execution_count": 56,
   "metadata": {},
   "outputs": [
    {
     "name": "stdout",
     "output_type": "stream",
     "text": [
      "Ttest_indResult(statistic=0.09842756306105326, pvalue=0.9216022923463462)\n"
     ]
    }
   ],
   "source": [
    "##Dichotomy\n",
    "zero_test = combined_data[(combined_data['test'] == 0) & (combined_data['timestamp'] < '2015-03-04') ]['income'].values\n",
    "one_test = combined_data[(combined_data['test'] == 1) & (combined_data['timestamp'] < '2015-03-04')]['income'].values\n",
    "#Welch's t-test\n",
    "print(ttest_ind(zero_test, one_test, axis=0, equal_var=False))"
   ]
  },
  {
   "cell_type": "code",
   "execution_count": 57,
   "metadata": {},
   "outputs": [
    {
     "name": "stdout",
     "output_type": "stream",
     "text": [
      "Ttest_indResult(statistic=-2.05448714828886, pvalue=0.03995046672926388)\n"
     ]
    }
   ],
   "source": [
    "zero_test = combined_data[(combined_data['test'] == 0) & (combined_data['timestamp'] < '2015-03-08') ]['income'].values\n",
    "one_test = combined_data[(combined_data['test'] == 1) & (combined_data['timestamp'] < '2015-03-08')]['income'].values\n",
    "#Welch's t-test\n",
    "print(ttest_ind(zero_test, one_test, axis=0, equal_var=False))"
   ]
  },
  {
   "cell_type": "markdown",
   "metadata": {},
   "source": [
    "Summary: 7 days with p-value < 0.05 would have been sufficient to establish the testing against the two group. \n",
    "This was determined by calculating p-values for shorter time periods. "
   ]
  }
 ],
 "metadata": {
  "kernelspec": {
   "display_name": "Python 3",
   "language": "python",
   "name": "python3"
  },
  "language_info": {
   "codemirror_mode": {
    "name": "ipython",
    "version": 3
   },
   "file_extension": ".py",
   "mimetype": "text/x-python",
   "name": "python",
   "nbconvert_exporter": "python",
   "pygments_lexer": "ipython3",
   "version": "3.7.1"
  }
 },
 "nbformat": 4,
 "nbformat_minor": 4
}
